{
 "cells": [
  {
   "cell_type": "code",
   "execution_count": 1,
   "id": "54b1b9a5-ee62-4d0c-aebe-5db658da92d5",
   "metadata": {},
   "outputs": [],
   "source": [
    "import cv2\n",
    "import numpy as np\n",
    "import os\n",
    "import pandas as pd"
   ]
  },
  {
   "cell_type": "code",
   "execution_count": 10,
   "id": "4c03a91a-003e-4521-bc82-05e1d0a5a8ed",
   "metadata": {},
   "outputs": [],
   "source": [
    "color=(255,255,255)\n",
    "def gif(event,x,y,flags,para): \n",
    "    if event==1:   \n",
    "        cv2.circle(canva,(x,y),10,color,-1)\n",
    "        "
   ]
  },
  {
   "cell_type": "code",
   "execution_count": 12,
   "id": "9cbb19b6-5928-490b-850f-ed6629e69bbd",
   "metadata": {},
   "outputs": [
    {
     "name": "stdout",
     "output_type": "stream",
     "text": [
      "frames have been saved\n",
      "frames have been saved\n",
      "frames have been saved\n",
      "frames have been saved\n",
      "frames have been saved\n",
      "frames have been saved\n",
      "frames have been saved\n",
      "frames have been saved\n",
      "frames have been saved\n"
     ]
    }
   ],
   "source": [
    "cv2.namedWindow(\"GIF\") \n",
    "\n",
    "\n",
    "cv2.setMouseCallback(\"GIF\",gif)  \n",
    "\n",
    "\n",
    "canva=np.zeros((500,500,3),dtype=np.uint8)  \n",
    "c=0\n",
    "while True:  \n",
    "    cv2.imshow(\"GIF\",canva)\n",
    "    k=cv2.waitKey(1)&255\n",
    "    if k==ord(\"s\"):\n",
    "        cv2.imwrite(r\"C:\\Users\\ADMIN\\Downloads\\gif\\{}.jpg\".format(c),canva)\n",
    "        print(\"frames have been saved\")\n",
    "        c+=1\n",
    "    if k==ord(\"q\"):\n",
    "        break\n",
    "    if k==ord(\"r\"):\n",
    "        color=(0,0,255)\n",
    "    if k==ord(\"g\"):\n",
    "        color=(0,255,0)\n",
    "    if k==ord(\"b\"):\n",
    "        color=(255,0,0)\n",
    "cv2.destroyAllWindows()"
   ]
  },
  {
   "cell_type": "code",
   "execution_count": 14,
   "id": "93cae480-fcfb-4fbd-82aa-e3fec648295b",
   "metadata": {},
   "outputs": [],
   "source": [
    "import os"
   ]
  },
  {
   "cell_type": "code",
   "execution_count": 18,
   "id": "4e67c054-dd5d-45ea-93e2-0d5e1c960b4a",
   "metadata": {},
   "outputs": [
    {
     "data": {
      "text/plain": [
       "['0.jpg',\n",
       " '1.jpg',\n",
       " '2.jpg',\n",
       " '3.jpg',\n",
       " '4.jpg',\n",
       " '5.jpg',\n",
       " '6.jpg',\n",
       " '7.jpg',\n",
       " '8.jpg']"
      ]
     },
     "execution_count": 18,
     "metadata": {},
     "output_type": "execute_result"
    }
   ],
   "source": [
    "os.listdir(r\"C:\\Users\\ADMIN\\Downloads\\gif\")"
   ]
  },
  {
   "cell_type": "code",
   "execution_count": 28,
   "id": "ad4239ff-3b4f-45f9-a3d5-5dd24cbbc142",
   "metadata": {},
   "outputs": [],
   "source": [
    "for y in range(len(os.listdir(r\"C:\\Users\\ADMIN\\Downloads\\gif\"))):\n",
    "    img=cv2.imread(r\"C:\\Users\\ADMIN\\Downloads\\gif\\{}.jpg\".format(y))\n",
    "    cv2.imshow(\"GIF\",img)\n",
    "    if cv2.waitKey(100) & 255 ==ord(\"q\"):\n",
    "        break\n",
    "cv2.destroyAllWindows()"
   ]
  },
  {
   "cell_type": "code",
   "execution_count": 3,
   "id": "eb6282e5-0b28-4363-90ee-62d240db2841",
   "metadata": {},
   "outputs": [],
   "source": [
    "drawing = False  \n",
    "x1, y1 = -1, -1  \n",
    "color = (0,0,0)\n",
    "def draw(event, x, y, flags, param):\n",
    "    global drawing, x1, y1\n",
    "\n",
    "    if event == cv2.EVENT_LBUTTONDOWN:\n",
    "        drawing = True\n",
    "        x1, y1 = x, y\n",
    "\n",
    "    elif event == cv2.EVENT_MOUSEMOVE:\n",
    "        if drawing:\n",
    "            cv2.line(img, (x1, y1), (x, y), color, 2)\n",
    "            x1, y1 = x, y\n",
    "\n",
    "    elif event == cv2.EVENT_LBUTTONUP:\n",
    "        drawing = False\n",
    "\n",
    "    \n",
    "    \n",
    "        \n",
    "    \n",
    "img = np.ones((400, 600, 3), dtype=np.uint8) * 255\n",
    "cv2.putText(img, 'press r:red, b:blue, g:green c: clear, d:download image', (30, 30), cv2.FONT_HERSHEY_TRIPLEX,0.6, (0, 0, 0), 1)\n",
    "\n",
    "cv2.namedWindow('paint')\n",
    "cv2.setMouseCallback('paint', draw)\n",
    "\n",
    "while True:\n",
    "    cv2.imshow('paint', img)\n",
    "    k=cv2.waitKey(1) & 255 \n",
    "\n",
    "    if k == ord(\"q\"):\n",
    "        break\n",
    "    elif k == ord(\"r\"):\n",
    "        color=(0,0,255)\n",
    "    elif k == ord(\"g\"):\n",
    "        color=(0,255,0)\n",
    "    elif k == ord(\"b\"):\n",
    "        color=(255,0,0)\n",
    "    elif k ==ord(\"c\"):\n",
    "       img[:]=255\n",
    "       cv2.putText(img, 'press r:red, b:blue, g:green, c: clear, d:download image', (30, 30), cv2.FONT_HERSHEY_TRIPLEX,0.6, (0, 0, 0), 1)\n",
    "    elif k==ord(\"d\"):\n",
    "        cv2.imwrite(r\"C:\\Users\\ADMIN\\Downloads\\paint_folder\\drawing.png\", img)\n",
    "        print(\"drawing save successfully\")\n",
    "cv2.destroyAllWindows()\n"
   ]
  },
  {
   "cell_type": "code",
   "execution_count": null,
   "id": "466adf8c-9fce-4de7-99d1-219a95b4df00",
   "metadata": {},
   "outputs": [],
   "source": []
  }
 ],
 "metadata": {
  "kernelspec": {
   "display_name": "Python 3 (ipykernel)",
   "language": "python",
   "name": "python3"
  },
  "language_info": {
   "codemirror_mode": {
    "name": "ipython",
    "version": 3
   },
   "file_extension": ".py",
   "mimetype": "text/x-python",
   "name": "python",
   "nbconvert_exporter": "python",
   "pygments_lexer": "ipython3",
   "version": "3.12.7"
  }
 },
 "nbformat": 4,
 "nbformat_minor": 5
}
